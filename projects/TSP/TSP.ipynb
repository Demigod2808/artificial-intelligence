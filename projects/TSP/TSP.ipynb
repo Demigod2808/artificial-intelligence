{
 "cells": [
  {
   "cell_type": "markdown",
   "metadata": {
    "toc": "true"
   },
   "source": [
    "# Table of Contents\n",
    " <p><div class=\"lev1 toc-item\"><a href=\"#The-Traveling-Salesperson-Problem\" data-toc-modified-id=\"The-Traveling-Salesperson-Problem-1\"><span class=\"toc-item-num\">1&nbsp;&nbsp;</span>The Traveling Salesperson Problem</a></div><div class=\"lev2 toc-item\"><a href=\"#Data-Structures-and-DataTypes\" data-toc-modified-id=\"Data-Structures-and-DataTypes-11\"><span class=\"toc-item-num\">1.1&nbsp;&nbsp;</span>Data Structures and DataTypes</a></div><div class=\"lev2 toc-item\"><a href=\"#Import-Packages\" data-toc-modified-id=\"Import-Packages-12\"><span class=\"toc-item-num\">1.2&nbsp;&nbsp;</span>Import Packages</a></div><div class=\"lev2 toc-item\"><a href=\"#All-Tours-Algorithm:-alltours\" data-toc-modified-id=\"All-Tours-Algorithm:-alltours-13\"><span class=\"toc-item-num\">1.3&nbsp;&nbsp;</span>All Tours Algorithm: alltours</a></div><div class=\"lev2 toc-item\"><a href=\"#Representing-Tours\" data-toc-modified-id=\"Representing-Tours-14\"><span class=\"toc-item-num\">1.4&nbsp;&nbsp;</span>Representing Tours</a></div><div class=\"lev2 toc-item\"><a href=\"#Representing-Points-and-Computing-distance\" data-toc-modified-id=\"Representing-Points-and-Computing-distance-15\"><span class=\"toc-item-num\">1.5&nbsp;&nbsp;</span>Representing Points and Computing distance</a></div><div class=\"lev2 toc-item\"><a href=\"#Generate-Sets-of-Cities\" data-toc-modified-id=\"Generate-Sets-of-Cities-16\"><span class=\"toc-item-num\">1.6&nbsp;&nbsp;</span>Generate Sets of Cities</a></div><div class=\"lev2 toc-item\"><a href=\"#Plotting-Tours\" data-toc-modified-id=\"Plotting-Tours-17\"><span class=\"toc-item-num\">1.7&nbsp;&nbsp;</span>Plotting Tours</a></div><div class=\"lev2 toc-item\"><a href=\"#All-Non-Redundant-Tours-Algorithm-(improved-alltours_tsp)\" data-toc-modified-id=\"All-Non-Redundant-Tours-Algorithm-(improved-alltours_tsp)-18\"><span class=\"toc-item-num\">1.8&nbsp;&nbsp;</span>All Non-Redundant Tours Algorithm (improved alltours_tsp)</a></div>"
   ]
  },
  {
   "cell_type": "markdown",
   "metadata": {},
   "source": [
    "# The Traveling Salesperson Problem\n",
    "Consider the [Traveling Salesperson Problem](http://en.wikipedia.org/wiki/Traveling_salesman_problem):\n",
    ">Given a set of cities and the distances between each pair of cities, what is the shortest possible tour that visits each city exactly once, and returns to the starting city?"
   ]
  },
  {
   "cell_type": "markdown",
   "metadata": {},
   "source": [
    "## Data Structures and DataTypes"
   ]
  },
  {
   "cell_type": "markdown",
   "metadata": {},
   "source": [
    "- **A set of cities**: ---> ```Python's set```\n",
    "- **Distance between each pair of cities**: ---> If A and B are cities, the distance between the two cities could be calculated through a function ```distance(A, B)```, or a table lookup, ```distance[A][B]```\n",
    "- **City**: ---> a city could be represented by an integer ```(0, 1, 2, ..)``` used as an index into a distance table.\n",
    "- **Tour**: ---> is a specified order in whichto visit the cities; Python's ```list``` or ```tuple``` datatypes work. For example, given the set of cities ```{A, B, C, D}```, a tour might be the list ```[B, A, D, C]```, which means to travel from B to A to D to C and finally back to B.\n",
    "- **Shortest possible tour**: ---> the shortest tour is the one whose tour length is the minimum of all tours.\n",
    "- **Tour length**: The sum of the distances between adjacent cities in the tour (including the last city back to the first city).\n",
    "- **```shortest_path_finder()```**: ---> is the function that takes a set of cities as input and returns a tour as output. "
   ]
  },
  {
   "cell_type": "markdown",
   "metadata": {},
   "source": [
    "## Import Packages"
   ]
  },
  {
   "cell_type": "code",
   "execution_count": 1,
   "metadata": {
    "collapsed": true
   },
   "outputs": [],
   "source": [
    "import warnings\n",
    "warnings.filterwarnings('ignore')\n",
    "%matplotlib inline\n",
    "import matplotlib.pyplot as plt\n",
    "import matplotlib\n",
    "matplotlib.style.use('ggplot')\n",
    "#matplotlib.rcParams['figure.figsize'] = (12, 15)\n",
    "import random\n",
    "import time\n",
    "import itertools\n",
    "import urllib\n",
    "import csv\n",
    "import functools\n",
    "from statistics import mean, stdev"
   ]
  },
  {
   "cell_type": "markdown",
   "metadata": {},
   "source": [
    "## All Tours Algorithm: alltours"
   ]
  },
  {
   "cell_type": "code",
   "execution_count": 2,
   "metadata": {
    "collapsed": true
   },
   "outputs": [],
   "source": [
    "def alltours_tsp(cities):\n",
    "    \"Generate all possible tours of the cities and choose the shortest tour.\"\n",
    "    return shortest_tour(alltours(cities))\n",
    "\n",
    "def shortest_tour(tours): \n",
    "    \"Choose the tour with the minimum tour length.\"\n",
    "    return min(tours, key=tour_length)\n",
    "\n",
    "# TO DO: Data types: cities, tours, Functions: alltours, tour_length\n",
    "\n",
    "\n",
    "def distance(A, B):\n",
    "    \"Function to calculate the distance between two points\"\n",
    "    return abs(A - B)\n",
    "\n",
    "def tour_length(tour):\n",
    "    \"The total of distances between each pair of consecutive cities in the tour.\"\n",
    "    return sum(distance(tour[i], tour[i-1]) \n",
    "               for i in range(len(tour)))\n",
    "\n",
    "# TO DO: Functions: distance, Data types: cities"
   ]
  },
  {
   "cell_type": "markdown",
   "metadata": {},
   "source": [
    "## Representing Tours\n",
    "\n",
    "- A tour starts in one city, and then visits each of the other cities in order, before returning to the start city. A natural representation of a tour is a sequence of cities. For example (1, 2, 3) could represent a tour that starts in city 1, moves to 2, then 3, and finally returns to 1.\n",
    "\n",
    "- Now for the alltours function. If a tour is a sequence of cities, then all the tours are permutations of the set of all cities. A function to generate all permutations of a set is already provided in Python's standard itertools library module; we can use it as our implementation of alltours:"
   ]
  },
  {
   "cell_type": "code",
   "execution_count": 3,
   "metadata": {
    "collapsed": true
   },
   "outputs": [],
   "source": [
    "alltours = itertools.permutations"
   ]
  },
  {
   "cell_type": "code",
   "execution_count": 4,
   "metadata": {},
   "outputs": [
    {
     "data": {
      "text/plain": [
       "itertools.permutations"
      ]
     },
     "execution_count": 4,
     "metadata": {},
     "output_type": "execute_result"
    }
   ],
   "source": [
    "alltours"
   ]
  },
  {
   "cell_type": "markdown",
   "metadata": {},
   "source": [
    "For $n$ cities there are $n!$ (that is, the factorial of n) permutations. Here's are all $3! = 6$ tours of 3 cities"
   ]
  },
  {
   "cell_type": "code",
   "execution_count": 5,
   "metadata": {
    "collapsed": true
   },
   "outputs": [],
   "source": [
    "cities = {'New-York', 'Little-Rock', 'Chicago'}"
   ]
  },
  {
   "cell_type": "code",
   "execution_count": 6,
   "metadata": {},
   "outputs": [
    {
     "data": {
      "text/plain": [
       "[('Chicago', 'Little-Rock', 'New-York'),\n",
       " ('Chicago', 'New-York', 'Little-Rock'),\n",
       " ('Little-Rock', 'Chicago', 'New-York'),\n",
       " ('Little-Rock', 'New-York', 'Chicago'),\n",
       " ('New-York', 'Chicago', 'Little-Rock'),\n",
       " ('New-York', 'Little-Rock', 'Chicago')]"
      ]
     },
     "execution_count": 6,
     "metadata": {},
     "output_type": "execute_result"
    }
   ],
   "source": [
    "list(alltours(cities))"
   ]
  },
  {
   "cell_type": "markdown",
   "metadata": {},
   "source": [
    "## Representing Points and Computing distance\n",
    "A city can be represented as just a two-dimensional point. But how will we represent points? Here are some choices, with their pros and cons:\n",
    "\n",
    "- **tuple:** A point is a two-tuple of (x, y) coordinates, for example, (300, 0). \n",
    "    - Pro: Very simple. \n",
    "    - Con: doesn't distinguish Points from other two-tuples.\n",
    "    \n",
    "- **class:** Define a custom Point class with x and y slots. \n",
    "    - Pro: explicit, gives us p.x and p.y accessors. \n",
    "    - Con: less efficient.\n",
    "    \n",
    "- **complex:** Python already has the two-dimensional point as a built-in numeric data type, but in a non-obvious way: as complex numbers, which inhabit the two-dimensional (real × imaginary) plane. \n",
    "    - Pro: efficient. \n",
    "    - Con: a little confusing; doesn't distinguish Points from other complex numbers.\n",
    "    \n",
    "- **subclass of complex:** All the pros of complex, and eliminating the major con."
   ]
  },
  {
   "cell_type": "code",
   "execution_count": 7,
   "metadata": {
    "collapsed": true
   },
   "outputs": [],
   "source": [
    "# Cities are represented as Points, which are a subclass of complex numbers\n",
    "\n",
    "class Point(complex):\n",
    "    x = property(lambda p: p.real)\n",
    "    y = property(lambda p: p.imag)\n",
    "    \n",
    "City = Point\n"
   ]
  },
  {
   "cell_type": "code",
   "execution_count": 8,
   "metadata": {
    "collapsed": true
   },
   "outputs": [],
   "source": [
    "# Example of computing the distance between two cities.\n",
    "A = City(6, 0)\n",
    "B = City(0, 8)"
   ]
  },
  {
   "cell_type": "code",
   "execution_count": 9,
   "metadata": {},
   "outputs": [
    {
     "name": "stdout",
     "output_type": "stream",
     "text": [
      "Distance between City A and City B is: 10.0\n"
     ]
    }
   ],
   "source": [
    "print(\"Distance between City A and City B is: {}\".format(distance(A, B)))"
   ]
  },
  {
   "cell_type": "markdown",
   "metadata": {},
   "source": [
    "## Generate Sets of Cities "
   ]
  },
  {
   "cell_type": "markdown",
   "metadata": {},
   "source": [
    "- Create a function that makes a random set of n cities by calling City n times, each with different random x and y coordinates.\n",
    "\n",
    "- Make ```Cities``` return a ```frozenset``` rather than a ```set```. A ```frozenset``` is immutable; nobody can change it once it is created. (Likewise, each city is immutable.)"
   ]
  },
  {
   "cell_type": "code",
   "execution_count": 10,
   "metadata": {
    "collapsed": true
   },
   "outputs": [],
   "source": [
    "def Cities(n, width=900, height=600, seed=1234):\n",
    "    \"Make a set of n cities, each with random coordinates within a (width x height) rectangle.\"\n",
    "    random.seed(seed * n)\n",
    "    return frozenset(City(random.randrange(width), random.randrange(height))\n",
    "                     for c in range(n))"
   ]
  },
  {
   "cell_type": "markdown",
   "metadata": {},
   "source": [
    "## Plotting Tours"
   ]
  },
  {
   "cell_type": "markdown",
   "metadata": {},
   "source": [
    "- Define ```plot_tour(tour)``` to plot the cities and the tour"
   ]
  },
  {
   "cell_type": "code",
   "execution_count": 11,
   "metadata": {
    "collapsed": true
   },
   "outputs": [],
   "source": [
    "def plot_tour(tour): \n",
    "    \"Plot the cities as circles and the tour as lines between them.\"\n",
    "    plot_lines(list(tour) + [tour[0]])\n",
    "    \n",
    "def plot_lines(points, style='bo-'):\n",
    "    \"Plot lines to connect a series of points.\"\n",
    "    plt.plot([p.x for p in points], [p.y for p in points], style)\n",
    "    plt.axis('scaled'); plt.axis('off')"
   ]
  },
  {
   "cell_type": "code",
   "execution_count": 12,
   "metadata": {},
   "outputs": [
    {
     "data": {
      "text/plain": [
       "frozenset({(161+107j),\n",
       "           (341+251j),\n",
       "           (716+382j),\n",
       "           (631+550j),\n",
       "           (693+295j),\n",
       "           (323+505j),\n",
       "           (388+122j),\n",
       "           (654+78j),\n",
       "           (78+570j),\n",
       "           (82+388j)})"
      ]
     },
     "execution_count": 12,
     "metadata": {},
     "output_type": "execute_result"
    }
   ],
   "source": [
    "Cities(10)"
   ]
  },
  {
   "cell_type": "code",
   "execution_count": 13,
   "metadata": {},
   "outputs": [
    {
     "data": {
      "text/plain": [
       "2174.850590401715"
      ]
     },
     "execution_count": 13,
     "metadata": {},
     "output_type": "execute_result"
    }
   ],
   "source": [
    "tour_length(alltours_tsp(Cities(10)))"
   ]
  },
  {
   "cell_type": "code",
   "execution_count": 14,
   "metadata": {},
   "outputs": [
    {
     "data": {
      "image/png": "[encoded data removed]",
      "text/plain": [
       "<matplotlib.figure.Figure at 0x7f386169ff98>"
      ]
     },
     "metadata": {},
     "output_type": "display_data"
    }
   ],
   "source": [
    "plot_tour(alltours_tsp(Cities(10)))"
   ]
  },
  {
   "cell_type": "code",
   "execution_count": 15,
   "metadata": {
    "collapsed": true
   },
   "outputs": [],
   "source": [
    "def plot_tsp(algorithm, cities):\n",
    "    \"Apply a TSP algorithm to cities, plot the resulting tour, and print information.\"\n",
    "    # Find the solution and time how long it takes\n",
    "    t0 = time.clock()\n",
    "    tour = algorithm(cities)\n",
    "    t1 = time.clock()\n",
    "    assert valid_tour(tour, cities)\n",
    "    plot_tour(tour); plt.show()\n",
    "    print(\"{} city tour with length {:.1f} in {:.3f} secs for {}\"\n",
    "          .format(len(tour), tour_length(tour), t1 - t0, algorithm.__name__))\n",
    "    \n",
    "def valid_tour(tour, cities):\n",
    "    \"Is tour a valid tour for these cities?\"\n",
    "    return set(tour) == set(cities) and len(tour) == len(cities)"
   ]
  },
  {
   "cell_type": "code",
   "execution_count": 16,
   "metadata": {},
   "outputs": [
    {
     "data": {
      "image/png": "[encoded data removed]",
      "text/plain": [
       "<matplotlib.figure.Figure at 0x7f385f64a128>"
      ]
     },
     "metadata": {},
     "output_type": "display_data"
    },
    {
     "name": "stdout",
     "output_type": "stream",
     "text": [
      "10 city tour with length 2174.9 in 21.191 secs for alltours_tsp\n"
     ]
    }
   ],
   "source": [
    "plot_tsp(alltours_tsp, Cities(10))"
   ]
  },
  {
   "cell_type": "markdown",
   "metadata": {},
   "source": [
    "## All Non-Redundant Tours Algorithm (improved alltours_tsp)"
   ]
  },
  {
   "cell_type": "code",
   "execution_count": 17,
   "metadata": {},
   "outputs": [
    {
     "data": {
      "text/plain": [
       "[('Chicago', 'Little-Rock', 'New-York'),\n",
       " ('Chicago', 'New-York', 'Little-Rock'),\n",
       " ('Little-Rock', 'Chicago', 'New-York'),\n",
       " ('Little-Rock', 'New-York', 'Chicago'),\n",
       " ('New-York', 'Chicago', 'Little-Rock'),\n",
       " ('New-York', 'Little-Rock', 'Chicago')]"
      ]
     },
     "execution_count": 17,
     "metadata": {},
     "output_type": "execute_result"
    }
   ],
   "source": [
    "cities = {'New-York', 'Little-Rock', 'Chicago'}\n",
    "list(alltours(cities))"
   ]
  },
  {
   "cell_type": "markdown",
   "metadata": {},
   "source": [
    "For $n$ cities there are $n!$ (that is, the factorial of n) permutations. Above are all $3! = 6$ tours of 3 cities. \n",
    "\n",
    "But this is redundant: ```('Chicago', 'Little-Rock', 'New-York')``` , ```('Little-Rock', 'New-York', 'Chicago')```, ```('New-York', 'Chicago', 'Little-Rock')``` are three ways of describing the same tour. \n",
    "\n",
    "- So let's arbitrarily say that all tours must start with the first city in the set of cities. We'll just pull the first city out, and then tack it back on to all the permutations of the rest of the cities.\n",
    "- While we're re-assembling a tour from the start city and the rest, we'll take the opportunity to construct the tour as a list rather than a tuple. It doesn't matter much now, but later on we will want to represent partial tours, to which we will want to append cities one by one; appending can only be done to lists, not tuples."
   ]
  },
  {
   "cell_type": "code",
   "execution_count": 18,
   "metadata": {
    "collapsed": true
   },
   "outputs": [],
   "source": [
    "def alltours(cities):\n",
    "    \"\"\"Return a list of tours, each a permutation of cities, but \n",
    "    each one starting with the same city.\"\"\"\n",
    "    start = first(cities)\n",
    "    return [[start] + Tour(rest)\n",
    "           for rest in itertools.permutations(cities - {start})]\n",
    "\n",
    "def first(collection):\n",
    "    \"\"\"Start iterating over collection, and return the first element\n",
    "    \"\"\"\n",
    "    return next(iter(collection))\n",
    "\n",
    "Tour = list  # Tours are implemented as lists of cities."
   ]
  },
  {
   "cell_type": "markdown",
   "metadata": {},
   "source": [
    "We can verify that for 3 cities there are now only 2 tours (not 6) and for 4 cities there are 6 tours (not 24):"
   ]
  },
  {
   "cell_type": "code",
   "execution_count": 19,
   "metadata": {},
   "outputs": [
    {
     "data": {
      "text/plain": [
       "[['Chicago', 'Little-Rock', 'New-York'],\n",
       " ['Chicago', 'New-York', 'Little-Rock']]"
      ]
     },
     "execution_count": 19,
     "metadata": {},
     "output_type": "execute_result"
    }
   ],
   "source": [
    "list(alltours(cities))"
   ]
  },
  {
   "cell_type": "code",
   "execution_count": 20,
   "metadata": {},
   "outputs": [
    {
     "data": {
      "image/png": "[encoded data removed]",
      "text/plain": [
       "<matplotlib.figure.Figure at 0x7f386167f710>"
      ]
     },
     "metadata": {},
     "output_type": "display_data"
    },
    {
     "name": "stdout",
     "output_type": "stream",
     "text": [
      "10 city tour with length 2174.9 in 2.579 secs for alltours_tsp\n"
     ]
    }
   ],
   "source": [
    "plot_tsp(alltours_tsp, Cities(10))"
   ]
  },
  {
   "cell_type": "markdown",
   "metadata": {},
   "source": [
    "- ```plot_tsp(alltours_tsp, Cities(10))``` still works and gives the same tour with the same total distance. But it now runs faster"
   ]
  },
  {
   "cell_type": "code",
   "execution_count": null,
   "metadata": {
    "collapsed": true
   },
   "outputs": [],
   "source": []
  }
 ],
 "metadata": {
  "kernelspec": {
   "display_name": "Python 3",
   "language": "python",
   "name": "python3"
  },
  "language_info": {
   "codemirror_mode": {
    "name": "ipython",
    "version": 3
   },
   "file_extension": ".py",
   "mimetype": "text/x-python",
   "name": "python",
   "nbconvert_exporter": "python",
   "pygments_lexer": "ipython3",
   "version": "3.6.2"
  },
  "toc": {
   "colors": {
    "hover_highlight": "#DAA520",
    "navigate_num": "#000000",
    "navigate_text": "#333333",
    "running_highlight": "#FF0000",
    "selected_highlight": "#FFD700",
    "sidebar_border": "#EEEEEE",
    "wrapper_background": "#FFFFFF"
   },
   "moveMenuLeft": true,
   "nav_menu": {
    "height": "189px",
    "width": "252px"
   },
   "navigate_menu": true,
   "number_sections": true,
   "sideBar": true,
   "threshold": 4,
   "toc_cell": true,
   "toc_section_display": "block",
   "toc_window_display": true,
   "widenNotebook": false
  }
 },
 "nbformat": 4,
 "nbformat_minor": 2
}
