{
 "cells": [
  {
   "cell_type": "markdown",
   "metadata": {
    "toc": "true"
   },
   "source": [
    " # Table of Contents\n",
    "<div class=\"toc\" style=\"margin-top: 1em;\"><ul class=\"toc-item\" id=\"toc-level0\"><li><span><a href=\"http://localhost:8888/notebooks/projects/OCR/mnist-keras.ipynb#Hand-written-digit-recognizer-using-MNIST-dataset\" data-toc-modified-id=\"Hand-written-digit-recognizer-using-MNIST-dataset-1\"><span class=\"toc-item-num\">1&nbsp;&nbsp;</span>Hand written digit recognizer using MNIST dataset</a></span><ul class=\"toc-item\"><li><span><a href=\"http://localhost:8888/notebooks/projects/OCR/mnist-keras.ipynb#Loading-training-data\" data-toc-modified-id=\"Loading-training-data-1.1\"><span class=\"toc-item-num\">1.1&nbsp;&nbsp;</span>Loading training data</a></span><ul class=\"toc-item\"><li><span><a href=\"http://localhost:8888/notebooks/projects/OCR/mnist-keras.ipynb#Data-Dimensions\" data-toc-modified-id=\"Data-Dimensions-1.1.1\"><span class=\"toc-item-num\">1.1.1&nbsp;&nbsp;</span>Data Dimensions</a></span></li></ul></li><li><span><a href=\"http://localhost:8888/notebooks/projects/OCR/mnist-keras.ipynb#Helper-Function-for-plotting-images\" data-toc-modified-id=\"Helper-Function-for-plotting-images-1.2\"><span class=\"toc-item-num\">1.2&nbsp;&nbsp;</span>Helper-Function for plotting images</a></span><ul class=\"toc-item\"><li><span><a href=\"http://localhost:8888/notebooks/projects/OCR/mnist-keras.ipynb#Plot-a-few-images-to-see-if-data-is-correct\" data-toc-modified-id=\"Plot-a-few-images-to-see-if-data-is-correct-1.2.1\"><span class=\"toc-item-num\">1.2.1&nbsp;&nbsp;</span>Plot a few images to see if data is correct</a></span></li></ul></li><li><span><a href=\"http://localhost:8888/notebooks/projects/OCR/mnist-keras.ipynb#Multi-Layer-Perceptron\" data-toc-modified-id=\"Multi-Layer-Perceptron-1.3\"><span class=\"toc-item-num\">1.3&nbsp;&nbsp;</span>Multi-Layer Perceptron</a></span><ul class=\"toc-item\"><li><span><a href=\"http://localhost:8888/notebooks/projects/OCR/mnist-keras.ipynb#Flatten-the-images-to-a-vector-and-Normalize-the-images\" data-toc-modified-id=\"Flatten-the-images-to-a-vector-and-Normalize-the-images-1.3.1\"><span class=\"toc-item-num\">1.3.1&nbsp;&nbsp;</span>Flatten the images to a vector and Normalize the images</a></span></li><li><span><a href=\"http://localhost:8888/notebooks/projects/OCR/mnist-keras.ipynb#One-hot-encoding\" data-toc-modified-id=\"One-hot-encoding-1.3.2\"><span class=\"toc-item-num\">1.3.2&nbsp;&nbsp;</span>One hot encoding</a></span></li><li><span><a href=\"http://localhost:8888/notebooks/projects/OCR/mnist-keras.ipynb#Build-the-model\" data-toc-modified-id=\"Build-the-model-1.3.3\"><span class=\"toc-item-num\">1.3.3&nbsp;&nbsp;</span>Build the model</a></span></li><li><span><a href=\"http://localhost:8888/notebooks/projects/OCR/mnist-keras.ipynb#Run-the-model\" data-toc-modified-id=\"Run-the-model-1.3.4\"><span class=\"toc-item-num\">1.3.4&nbsp;&nbsp;</span>Run the model</a></span></li><li><span><a href=\"http://localhost:8888/notebooks/projects/OCR/mnist-keras.ipynb#Helper-functions-to-show-performance\" data-toc-modified-id=\"Helper-functions-to-show-performance-1.3.5\"><span class=\"toc-item-num\">1.3.5&nbsp;&nbsp;</span>Helper functions to show performance</a></span></li></ul></li></ul></li></ul></div>"
   ]
  },
  {
   "cell_type": "markdown",
   "metadata": {},
   "source": [
    "# Hand written digit recognizer using MNIST dataset"
   ]
  },
  {
   "cell_type": "code",
   "execution_count": 1,
   "metadata": {},
   "outputs": [
    {
     "name": "stderr",
     "output_type": "stream",
     "text": [
      "Using TensorFlow backend.\n"
     ]
    }
   ],
   "source": [
    "import warnings\n",
    "warnings.filterwarnings('ignore')\n",
    "%matplotlib inline\n",
    "import matplotlib.pyplot as plt\n",
    "import matplotlib\n",
    "matplotlib.style.use('seaborn')\n",
    "#matplotlib.rcParams['figure.figsize'] = (12, 15)\n",
    "import numpy as np\n",
    "from sklearn.metrics import confusion_matrix\n",
    "import keras\n",
    "from keras.models import Sequential\n",
    "from keras.layers import Dense, Dropout, Activation\n",
    "from keras.utils.vis_utils import plot_model"
   ]
  },
  {
   "cell_type": "code",
   "execution_count": 2,
   "metadata": {
    "collapsed": true
   },
   "outputs": [],
   "source": [
    "# Random seed for reproducibility\n",
    "seed = 13\n",
    "np.random.seed(seed)"
   ]
  },
  {
   "cell_type": "markdown",
   "metadata": {},
   "source": [
    "## Loading training data"
   ]
  },
  {
   "cell_type": "code",
   "execution_count": 3,
   "metadata": {
    "collapsed": true
   },
   "outputs": [],
   "source": [
    "from keras.datasets import mnist"
   ]
  },
  {
   "cell_type": "code",
   "execution_count": 4,
   "metadata": {
    "collapsed": true
   },
   "outputs": [],
   "source": [
    "(X_train, y_train), (X_test, y_test) = mnist.load_data()"
   ]
  },
  {
   "cell_type": "code",
   "execution_count": 5,
   "metadata": {
    "collapsed": true
   },
   "outputs": [],
   "source": [
    "from sklearn.model_selection import train_test_split"
   ]
  },
  {
   "cell_type": "code",
   "execution_count": 6,
   "metadata": {
    "collapsed": true
   },
   "outputs": [],
   "source": [
    "X_train, X_val, y_train, y_val = train_test_split(X_train, y_train, test_size=0.1, random_state=0)"
   ]
  },
  {
   "cell_type": "code",
   "execution_count": 7,
   "metadata": {},
   "outputs": [
    {
     "name": "stdout",
     "output_type": "stream",
     "text": [
      "(54000, 28, 28)\n",
      "(54000,)\n",
      "(6000, 28, 28)\n",
      "(6000,)\n",
      "(10000, 28, 28)\n",
      "(10000,)\n"
     ]
    }
   ],
   "source": [
    "print(X_train.shape)\n",
    "print(y_train.shape)\n",
    "print(X_val.shape)\n",
    "print(y_val.shape)\n",
    "print(X_test.shape)\n",
    "print(y_test.shape)"
   ]
  },
  {
   "cell_type": "markdown",
   "metadata": {},
   "source": [
    "### Data Dimensions"
   ]
  },
  {
   "cell_type": "code",
   "execution_count": 8,
   "metadata": {
    "collapsed": true
   },
   "outputs": [],
   "source": [
    "# We know that MNIST images are 28 pixels in each dimension.\n",
    "img_size = 28\n",
    "\n",
    "# Images are stored in one-dimensional arrays of this length.\n",
    "img_size_flat = img_size * img_size\n",
    "\n",
    "# Tuple with height and width of images used to reshape arrays.\n",
    "img_shape = (img_size, img_size)\n",
    "\n",
    "# Number of classes, one class for each of 10 digits.\n",
    "num_classes = 10"
   ]
  },
  {
   "cell_type": "markdown",
   "metadata": {},
   "source": [
    "## Helper-Function for plotting images"
   ]
  },
  {
   "cell_type": "code",
   "execution_count": 9,
   "metadata": {},
   "outputs": [],
   "source": [
    "def plot_images(images, cls_true, cls_pred=None):\n",
    "    assert len(images) == len(cls_true) == 9\n",
    "    \n",
    "    fig, axes = plt.subplots(3, 3)\n",
    "    fig.subplots_adjust(hspace=0.3, wspace=0.3)\n",
    "    \n",
    "    for i, ax in enumerate(axes.flat):\n",
    "        # Plot image\n",
    "        ax.imshow(images[i].reshape(img_shape), cmap='binary')\n",
    "        \n",
    "        # Show true and predicted classes.\n",
    "        if cls_pred is None:\n",
    "            xlabel = \"True: {0}\".format(cls_true[i])\n",
    "            \n",
    "        else:\n",
    "            xlabel = \"True: {0}, Pred: {1}\".format(cls_true[i], cls_pred[i])\n",
    "            \n",
    "        ax.set_xlabel(xlabel)\n",
    "        \n",
    "        # Remove ticks from the plot.\n",
    "        ax.set_xticks([])\n",
    "        ax.set_yticks([])"
   ]
  },
  {
   "cell_type": "markdown",
   "metadata": {},
   "source": [
    "### Plot a few images to see if data is correct\n"
   ]
  },
  {
   "cell_type": "code",
   "execution_count": 10,
   "metadata": {},
   "outputs": [
    {
     "data": {
      "image/png": "[encoded data removed]",
      "text/plain": [
       "<matplotlib.figure.Figure at 0x7f6c3adf3a90>"
      ]
     },
     "metadata": {},
     "output_type": "display_data"
    }
   ],
   "source": [
    "# Get the first images from the test-set.\n",
    "images = X_test[0:9]\n",
    "\n",
    "# Get the true classes for those images.\n",
    "cls_true = y_test[0:9]\n",
    "\n",
    "# Plot the images and labels using the helper-function above.\n",
    "plot_images(images=images, cls_true=cls_true)"
   ]
  },
  {
   "cell_type": "markdown",
   "metadata": {},
   "source": [
    "## Multi-Layer Perceptron"
   ]
  },
  {
   "cell_type": "markdown",
   "metadata": {},
   "source": [
    "### Flatten the images to a vector and Normalize the images\n",
    "It is always a good idea to perform some scaling of input values when using neural network models."
   ]
  },
  {
   "cell_type": "code",
   "execution_count": 11,
   "metadata": {
    "collapsed": true
   },
   "outputs": [],
   "source": [
    "def flatten_and_normalize_images():\n",
    "    num_pixels_ = X_train.shape[1] * X_train.shape[2]\n",
    "    X_train_ = X_train.reshape(X_train.shape[0], num_pixels_) / 255\n",
    "    X_val_ = X_val.reshape(X_val.shape[0], num_pixels_) / 255\n",
    "    X_test_ = X_test.reshape(X_test.shape[0], num_pixels_) / 255\n",
    "    return X_train_, X_val_, X_test_\n",
    "    "
   ]
  },
  {
   "cell_type": "code",
   "execution_count": 12,
   "metadata": {},
   "outputs": [],
   "source": [
    "X_train_, X_val_, X_test_ = flatten_and_normalize_images()"
   ]
  },
  {
   "cell_type": "markdown",
   "metadata": {},
   "source": [
    "### One hot encoding"
   ]
  },
  {
   "cell_type": "markdown",
   "metadata": {},
   "source": [
    "The class-labels are One-Hot encoded, which means that each label is a vector with 10 elements, all of which are zero except for one element. The index of this one element is the class-number, that is, the digit shown in the associated image. We also need the class-numbers as integers for the test-set."
   ]
  },
  {
   "cell_type": "code",
   "execution_count": 13,
   "metadata": {},
   "outputs": [
    {
     "data": {
      "text/plain": [
       "7"
      ]
     },
     "execution_count": 13,
     "metadata": {},
     "output_type": "execute_result"
    }
   ],
   "source": [
    "y_train[0]"
   ]
  },
  {
   "cell_type": "code",
   "execution_count": 14,
   "metadata": {
    "collapsed": true
   },
   "outputs": [],
   "source": [
    "# one hot encode outputs\n",
    "y_train_ = keras.utils.np_utils.to_categorical(y_train)\n",
    "y_val_ = keras.utils.np_utils.to_categorical(y_val)\n",
    "y_test_ = keras.utils.np_utils.to_categorical(y_test)\n",
    "num_classes  = y_test_.shape[1]"
   ]
  },
  {
   "cell_type": "code",
   "execution_count": 15,
   "metadata": {},
   "outputs": [
    {
     "data": {
      "text/plain": [
       "7"
      ]
     },
     "execution_count": 15,
     "metadata": {},
     "output_type": "execute_result"
    }
   ],
   "source": [
    "y_train[0]"
   ]
  },
  {
   "cell_type": "markdown",
   "metadata": {},
   "source": [
    "### Build the model\n",
    "\n",
    "- This is a simple neural network with two hidden layers with the same number of neurons as there are inputs. A rectifier activation function is used for the neurons in the hidden layer.\n",
    "\n",
    "- A softmax activation is used on the output layer to turn the outputs into probability-like values.\n",
    "\n",
    "- Logarithmic loss is used as the loss function (called ```categorical_crossentropy``` in keras) and the efficient **ADAM** gradient descent algorithm is used to learn the weights.\n"
   ]
  },
  {
   "cell_type": "code",
   "execution_count": 16,
   "metadata": {
    "collapsed": true
   },
   "outputs": [],
   "source": [
    "# Define baseline model\n",
    "def baseline_model():\n",
    "    # Create model\n",
    "    model = Sequential()\n",
    "    model.add(Dense(img_size_flat, input_dim=img_size_flat, \\\n",
    "                    kernel_initializer='normal', activation='relu'))\n",
    "    model.add(Dense(64, input_dim=img_size_flat, \\\n",
    "                    kernel_initializer='normal', activation='relu'))\n",
    "    model.add(Dense(num_classes, kernel_initializer='normal', activation='softmax'))\n",
    "    \n",
    "    # Compile model\n",
    "    model.compile(loss='categorical_crossentropy', optimizer='adam', metrics=['accuracy'])\n",
    "    return model"
   ]
  },
  {
   "cell_type": "markdown",
   "metadata": {},
   "source": [
    "### Run the model\n",
    "\n",
    "- Fit over 10 epochs with updates every 256 images."
   ]
  },
  {
   "cell_type": "code",
   "execution_count": 17,
   "metadata": {},
   "outputs": [
    {
     "name": "stdout",
     "output_type": "stream",
     "text": [
      "_________________________________________________________________\n",
      "Layer (type)                 Output Shape              Param #   \n",
      "=================================================================\n",
      "dense_1 (Dense)              (None, 784)               615440    \n",
      "_________________________________________________________________\n",
      "dense_2 (Dense)              (None, 64)                50240     \n",
      "_________________________________________________________________\n",
      "dense_3 (Dense)              (None, 10)                650       \n",
      "=================================================================\n",
      "Total params: 666,330\n",
      "Trainable params: 666,330\n",
      "Non-trainable params: 0\n",
      "_________________________________________________________________\n"
     ]
    }
   ],
   "source": [
    "# Build the model\n",
    "model = baseline_model()\n",
    "model.summary()"
   ]
  },
  {
   "cell_type": "code",
   "execution_count": 18,
   "metadata": {},
   "outputs": [],
   "source": [
    "plot_model(model, to_file='model.png') "
   ]
  },
  {
   "cell_type": "code",
   "execution_count": 19,
   "metadata": {},
   "outputs": [
    {
     "name": "stdout",
     "output_type": "stream",
     "text": [
      "Train on 54000 samples, validate on 6000 samples\n",
      "Epoch 1/10\n",
      "54000/54000 [==============================] - 9s - loss: 0.3943 - acc: 0.8892 - val_loss: 0.1617 - val_acc: 0.9540\n",
      "Epoch 2/10\n",
      "54000/54000 [==============================] - 9s - loss: 0.1403 - acc: 0.9589 - val_loss: 0.1207 - val_acc: 0.9635\n",
      "Epoch 3/10\n",
      "54000/54000 [==============================] - 10s - loss: 0.0896 - acc: 0.9734 - val_loss: 0.0856 - val_acc: 0.9732\n",
      "Epoch 4/10\n",
      "54000/54000 [==============================] - 10s - loss: 0.0627 - acc: 0.9818 - val_loss: 0.0707 - val_acc: 0.9787\n",
      "Epoch 5/10\n",
      "54000/54000 [==============================] - 9s - loss: 0.0456 - acc: 0.9868 - val_loss: 0.0707 - val_acc: 0.9795\n",
      "Epoch 6/10\n",
      "54000/54000 [==============================] - 9s - loss: 0.0337 - acc: 0.9898 - val_loss: 0.0595 - val_acc: 0.9812\n",
      "Epoch 7/10\n",
      "54000/54000 [==============================] - 10s - loss: 0.0251 - acc: 0.9930 - val_loss: 0.0603 - val_acc: 0.9818\n",
      "Epoch 8/10\n",
      "54000/54000 [==============================] - 11s - loss: 0.0200 - acc: 0.9943 - val_loss: 0.0689 - val_acc: 0.9780\n",
      "Epoch 9/10\n",
      "54000/54000 [==============================] - 9s - loss: 0.0134 - acc: 0.9965 - val_loss: 0.0578 - val_acc: 0.9838\n",
      "Epoch 10/10\n",
      "54000/54000 [==============================] - 11s - loss: 0.0096 - acc: 0.9977 - val_loss: 0.0718 - val_acc: 0.9827\n"
     ]
    }
   ],
   "source": [
    "# Fit the model\n",
    "history = model.fit(X_train_, y_train_, \n",
    "          validation_data=(X_val_, y_val_), epochs=10, batch_size=256)"
   ]
  },
  {
   "cell_type": "code",
   "execution_count": 20,
   "metadata": {},
   "outputs": [
    {
     "name": "stdout",
     "output_type": "stream",
     "text": [
      "Baseline Error: 2.1099999999999994\n",
      "Test Accuracy: 0.9789\n"
     ]
    }
   ],
   "source": [
    "# Final evaluation of the model\n",
    "test_loss, test_acc = model.evaluate(X_test_, y_test_, verbose=0)\n",
    "print(\"Baseline Error: {}\".format(100-test_acc*100))\n",
    "print(\"Test Accuracy: {}\".format(test_acc))"
   ]
  },
  {
   "cell_type": "markdown",
   "metadata": {},
   "source": [
    "### Helper functions to show performance"
   ]
  },
  {
   "cell_type": "code",
   "execution_count": 21,
   "metadata": {},
   "outputs": [
    {
     "data": {
      "text/plain": [
       "dict_keys(['val_loss', 'val_acc', 'loss', 'acc'])"
      ]
     },
     "execution_count": 21,
     "metadata": {},
     "output_type": "execute_result"
    }
   ],
   "source": [
    "history_dict = history.history\n",
    "history_dict.keys()"
   ]
  },
  {
   "cell_type": "code",
   "execution_count": 22,
   "metadata": {},
   "outputs": [],
   "source": [
    "def plot_history(history):\n",
    "    \n",
    "    acc = history.history['acc']\n",
    "    val_acc = history.history['val_acc']\n",
    "    loss = history.history['loss']\n",
    "    val_loss = history.history['val_loss']\n",
    "    epochs = range(1, len(acc) + 1)\n",
    "    plt.plot(epochs, loss, 'r', label='Training loss')\n",
    "    # b is for \"solid blue line\"\n",
    "    plt.plot(epochs, val_loss, 'b', label='Validation loss')\n",
    "    plt.title('Training and validation loss')\n",
    "    plt.xlabel('Epochs')\n",
    "    plt.ylabel('Loss')\n",
    "    plt.legend()\n",
    "    plt.show()\n",
    "    \n",
    "    acc_values = history_dict['acc']\n",
    "    val_acc_values = history_dict['val_acc']\n",
    "\n",
    "    plt.plot(epochs, acc, 'r', label='Training acc')\n",
    "    plt.plot(epochs, val_acc, 'b', label='Validation acc')\n",
    "    plt.title('Training and validation accuracy')\n",
    "    plt.xlabel('Epochs')\n",
    "    plt.ylabel('Loss')\n",
    "    plt.legend()\n",
    "    plt.show()"
   ]
  },
  {
   "cell_type": "code",
   "execution_count": 23,
   "metadata": {},
   "outputs": [
    {
     "data": {
      "image/png": "[encoded data removed]",
      "text/plain": [
       "<matplotlib.figure.Figure at 0x7f6c3b921d68>"
      ]
     },
     "metadata": {},
     "output_type": "display_data"
    },
    {
     "data": {
      "image/png": "[encoded data removed]",
      "text/plain": [
       "<matplotlib.figure.Figure at 0x7f6c3e2e0a58>"
      ]
     },
     "metadata": {},
     "output_type": "display_data"
    }
   ],
   "source": [
    "plot_history(history)"
   ]
  },
  {
   "cell_type": "code",
   "execution_count": 24,
   "metadata": {
    "collapsed": true
   },
   "outputs": [],
   "source": [
    "def print_confusion_matrix():\n",
    "    \n",
    "    # Get the predicted classifications for the test-set\n",
    "    cls_pred = model.predict_classes(X_test_)\n",
    "    \n",
    "    # Get the confusion matrix using sklearn\n",
    "    cm = confusion_matrix(y_true=y_test,\n",
    "                          y_pred=cls_pred)\n",
    "    \n",
    "    # Print the confusion matrix as text\n",
    "    print(\"\\n\\n\")\n",
    "    print(cm)\n",
    "    \n",
    "    # Plot the confusion matrix.\n",
    "    plt.imshow(cm, interpolation='nearest', cmap=plt.cm.Blues)\n",
    "    \n",
    "    # Make various adjustments to the plot.\n",
    "    plt.tight_layout()\n",
    "    plt.colorbar()\n",
    "    tick_marks = np.arange(num_classes)\n",
    "    plt.xticks(tick_marks, range(num_classes))\n",
    "    plt.yticks(tick_marks, range(num_classes))\n",
    "    plt.xlabel('Predicted')\n",
    "    plt.ylabel('True')"
   ]
  },
  {
   "cell_type": "code",
   "execution_count": 25,
   "metadata": {},
   "outputs": [
    {
     "name": "stdout",
     "output_type": "stream",
     "text": [
      " 9600/10000 [===========================>..] - ETA: 0s\n",
      "\n",
      "\n",
      "[[ 968    0    3    0    1    0    4    1    3    0]\n",
      " [   0 1121    4    0    0    0    2    1    7    0]\n",
      " [   0    0 1019    0    1    0    3    3    6    0]\n",
      " [   1    0    8  982    0    3    0    6    6    4]\n",
      " [   1    0    4    0  962    0    5    2    2    6]\n",
      " [   1    0    0   15    1  855    4    1   12    3]\n",
      " [   2    3    2    1    2    4  941    0    3    0]\n",
      " [   1    2   10    1    0    0    1 1004    3    6]\n",
      " [   1    0    3    2    0    1    1    4  961    1]\n",
      " [   2    2    0    4    7    3    2    3   10  976]]\n"
     ]
    },
    {
     "data": {
      "image/png": "[encoded data removed]",
      "text/plain": [
       "<matplotlib.figure.Figure at 0x7f6c3e112be0>"
      ]
     },
     "metadata": {},
     "output_type": "display_data"
    }
   ],
   "source": [
    "print_confusion_matrix()"
   ]
  },
  {
   "cell_type": "code",
   "execution_count": 26,
   "metadata": {},
   "outputs": [
    {
     "data": {
      "application/json": {
       "Software versions": [
        {
         "module": "Python",
         "version": "3.6.2 64bit [GCC 4.8.2 20140120 (Red Hat 4.8.2-15)]"
        },
        {
         "module": "IPython",
         "version": "6.1.0"
        },
        {
         "module": "OS",
         "version": "Linux 4.4.0 53 generic x86_64 with debian stretch sid"
        },
        {
         "module": "keras",
         "version": "2.0.6"
        },
        {
         "module": "numpy",
         "version": "1.12.1"
        },
        {
         "module": "matplotlib",
         "version": "2.0.2"
        }
       ]
      },
      "text/html": [
       "<table><tr><th>Software</th><th>Version</th></tr><tr><td>Python</td><td>3.6.2 64bit [GCC 4.8.2 20140120 (Red Hat 4.8.2-15)]</td></tr><tr><td>IPython</td><td>6.1.0</td></tr><tr><td>OS</td><td>Linux 4.4.0 53 generic x86_64 with debian stretch sid</td></tr><tr><td>keras</td><td>2.0.6</td></tr><tr><td>numpy</td><td>1.12.1</td></tr><tr><td>matplotlib</td><td>2.0.2</td></tr><tr><td colspan='2'>Fri Sep 15 16:53:06 2017 CDT</td></tr></table>"
      ],
      "text/latex": [
       "\\begin{tabular}{|l|l|}\\hline\n",
       "{\\bf Software} & {\\bf Version} \\\\ \\hline\\hline\n",
       "Python & 3.6.2 64bit [GCC 4.8.2 20140120 (Red Hat 4.8.2-15)] \\\\ \\hline\n",
       "IPython & 6.1.0 \\\\ \\hline\n",
       "OS & Linux 4.4.0 53 generic x86\\_64 with debian stretch sid \\\\ \\hline\n",
       "keras & 2.0.6 \\\\ \\hline\n",
       "numpy & 1.12.1 \\\\ \\hline\n",
       "matplotlib & 2.0.2 \\\\ \\hline\n",
       "\\hline \\multicolumn{2}{|l|}{Fri Sep 15 16:53:06 2017 CDT} \\\\ \\hline\n",
       "\\end{tabular}\n"
      ],
      "text/plain": [
       "Software versions\n",
       "Python 3.6.2 64bit [GCC 4.8.2 20140120 (Red Hat 4.8.2-15)]\n",
       "IPython 6.1.0\n",
       "OS Linux 4.4.0 53 generic x86_64 with debian stretch sid\n",
       "keras 2.0.6\n",
       "numpy 1.12.1\n",
       "matplotlib 2.0.2\n",
       "Fri Sep 15 16:53:06 2017 CDT"
      ]
     },
     "execution_count": 26,
     "metadata": {},
     "output_type": "execute_result"
    }
   ],
   "source": [
    "%load_ext version_information\n",
    "%version_information keras, numpy, matplotlib"
   ]
  }
 ],
 "metadata": {
  "kernelspec": {
   "display_name": "Python 3",
   "language": "python",
   "name": "python3"
  },
  "language_info": {
   "codemirror_mode": {
    "name": "ipython",
    "version": 3
   },
   "file_extension": ".py",
   "mimetype": "text/x-python",
   "name": "python",
   "nbconvert_exporter": "python",
   "pygments_lexer": "ipython3",
   "version": "3.6.2"
  },
  "toc": {
   "nav_menu": {},
   "number_sections": true,
   "sideBar": true,
   "skip_h1_title": false,
   "toc_cell": true,
   "toc_position": {},
   "toc_section_display": "block",
   "toc_window_display": false
  }
 },
 "nbformat": 4,
 "nbformat_minor": 2
}
