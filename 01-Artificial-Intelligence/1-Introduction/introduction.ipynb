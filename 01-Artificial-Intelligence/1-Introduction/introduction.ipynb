{
 "cells": [
  {
   "cell_type": "markdown",
   "metadata": {
    "toc": "true"
   },
   "source": [
    "# Table of Contents\n",
    " <p><div class=\"lev1 toc-item\"><a href=\"#Introduction\" data-toc-modified-id=\"Introduction-1\"><span class=\"toc-item-num\">1&nbsp;&nbsp;</span>Introduction</a></div><div class=\"lev2 toc-item\"><a href=\"#What-is-AI?\" data-toc-modified-id=\"What-is-AI?-11\"><span class=\"toc-item-num\">1.1&nbsp;&nbsp;</span>What is AI?</a></div><div class=\"lev3 toc-item\"><a href=\"#Acting-humamly:-The-Turing-Test-approach\" data-toc-modified-id=\"Acting-humamly:-The-Turing-Test-approach-111\"><span class=\"toc-item-num\">1.1.1&nbsp;&nbsp;</span>Acting humamly: The Turing Test approach</a></div><div class=\"lev3 toc-item\"><a href=\"#Thinking-humanly:-The-cognitive-modeling-approach\" data-toc-modified-id=\"Thinking-humanly:-The-cognitive-modeling-approach-112\"><span class=\"toc-item-num\">1.1.2&nbsp;&nbsp;</span>Thinking humanly: The cognitive modeling approach</a></div><div class=\"lev3 toc-item\"><a href=\"#Thinking-rationally:-The-&quot;laws-of-thought&quot;-approach\" data-toc-modified-id=\"Thinking-rationally:-The-&quot;laws-of-thought&quot;-approach-113\"><span class=\"toc-item-num\">1.1.3&nbsp;&nbsp;</span>Thinking rationally: The \"laws of thought\" approach</a></div><div class=\"lev3 toc-item\"><a href=\"#Acting-rationally:-The-rational-agent-approach\" data-toc-modified-id=\"Acting-rationally:-The-rational-agent-approach-114\"><span class=\"toc-item-num\">1.1.4&nbsp;&nbsp;</span>Acting rationally: The rational agent approach</a></div><div class=\"lev2 toc-item\"><a href=\"#The-Foundations-of-AI\" data-toc-modified-id=\"The-Foundations-of-AI-12\"><span class=\"toc-item-num\">1.2&nbsp;&nbsp;</span>The Foundations of AI</a></div>"
   ]
  },
  {
   "cell_type": "markdown",
   "metadata": {},
   "source": [
    "# Introduction"
   ]
  },
  {
   "cell_type": "markdown",
   "metadata": {},
   "source": [
    "## What is AI?"
   ]
  },
  {
   "cell_type": "markdown",
   "metadata": {},
   "source": [
    "![](https://i.imgur.com/CsEvilC.png)"
   ]
  },
  {
   "cell_type": "markdown",
   "metadata": {},
   "source": [
    "### Acting humamly: The Turing Test approach"
   ]
  },
  {
   "cell_type": "markdown",
   "metadata": {},
   "source": [
    "- **The Turing Test**, was proposed by Alan Turing (1950)\n",
    "- Designed to provide a satisfactory  operational definition of intelligence.\n",
    "- A computer passes the test if a human interrogator, after posing some written questions, cannot tell whether the written responses come from a person or from a computer.\n",
    "- The computer would need to possess the following capabilities:\n",
    "    - **natural language processing** to enable it to communicate successfully in English.\n",
    "    - **knowledge representation** to store what it knows or hears.\n",
    "    - **automated reasoning** to use the stored information to answer questions and to draw new conclusions.\n",
    "    - **machine learning** to adapt to new circumstances and to detect and extrapolate patterns.\n",
    "    \n",
    "- Turing's test deliberately avoided direct physical interaction between the interrogator and the computer, because physical simulation of a person is unnecessary for intelligence.\n",
    "\n",
    "- **The Total Turing Test** includes a video signal so that the interrogator can test the subject's perceptual abilities, as well the opportunity for the interrogator to pass physical objects through the hatch.\n",
    "- To pass the total turing test, the computer will need:\n",
    "    - **computer vision** to perceive objects, and\n",
    "    - **robotics** to manipulate objects and move about."
   ]
  },
  {
   "cell_type": "markdown",
   "metadata": {},
   "source": [
    "### Thinking humanly: The cognitive modeling approach"
   ]
  },
  {
   "cell_type": "markdown",
   "metadata": {},
   "source": [
    "- The interdisciplinary field of **cognitive science** brings together computer models from AI and experimental techniques from psychology to construct precise and testable theories of human mind."
   ]
  },
  {
   "cell_type": "markdown",
   "metadata": {},
   "source": [
    "### Thinking rationally: The \"laws of thought\" approach"
   ]
  },
  {
   "cell_type": "markdown",
   "metadata": {},
   "source": [
    "- Logicians in the 19th century developed a precise notation for statements about all kinds of objects in the world and the relations among them. \n",
    "- By 1965, programs existed that could, in principle, solve any solvable problem described in logical notation. (Although if no solution exists, the program might loop forever.) \n",
    "- The so-called logicist tradition within artificial intelligence hopes to build on such programs to create intelligent systems."
   ]
  },
  {
   "cell_type": "markdown",
   "metadata": {},
   "source": [
    "**There are two main obstacles to this approach.**\n",
    "- First, it is not easy to take informal knowledge and state it in the formal terms required by logical notation, particularly when the knowledge is less than 100% certain. \n",
    "- Second, there is a big difference between solving a problem “in principle” and solving it in practice. Even problems with just a few hundred facts can exhaust the computational resources of any computer unless it has some guidance as to which reasoning steps to try first. Although both of these obstacles apply to any attempt to build computational reasoning systems, they appeared first in the logicist tradition.\n"
   ]
  },
  {
   "cell_type": "markdown",
   "metadata": {},
   "source": [
    "### Acting rationally: The rational agent approach"
   ]
  },
  {
   "cell_type": "markdown",
   "metadata": {},
   "source": [
    "- An **agent** is just something that acts.\n",
    "- A **rational agent** is one that acts so as to achieve the best outcome or, when there is uncertainty, the best expected outcome.\n",
    "- The rational-agent approach has two advantages over the other approaches:\n",
    "    - First, it is more general than the \"laws of thought\" approach because correct inference is just one of several possible mechanisms for achieving rationality.\n",
    "    - Second, it is more amenable to scientific development than are approaches based on human behavior or human thought."
   ]
  },
  {
   "cell_type": "markdown",
   "metadata": {},
   "source": [
    "## The Foundations of AI"
   ]
  },
  {
   "cell_type": "code",
   "execution_count": null,
   "metadata": {
    "collapsed": true
   },
   "outputs": [],
   "source": []
  }
 ],
 "metadata": {
  "kernelspec": {
   "display_name": "Python 3",
   "language": "python",
   "name": "python3"
  },
  "language_info": {
   "codemirror_mode": {
    "name": "ipython",
    "version": 3
   },
   "file_extension": ".py",
   "mimetype": "text/x-python",
   "name": "python",
   "nbconvert_exporter": "python",
   "pygments_lexer": "ipython3",
   "version": "3.6.2"
  },
  "toc": {
   "colors": {
    "hover_highlight": "#DAA520",
    "navigate_num": "#000000",
    "navigate_text": "#333333",
    "running_highlight": "#FF0000",
    "selected_highlight": "#FFD700",
    "sidebar_border": "#EEEEEE",
    "wrapper_background": "#FFFFFF"
   },
   "moveMenuLeft": true,
   "nav_menu": {
    "height": "153px",
    "width": "252px"
   },
   "navigate_menu": true,
   "number_sections": true,
   "sideBar": true,
   "threshold": 4,
   "toc_cell": true,
   "toc_section_display": "block",
   "toc_window_display": true,
   "widenNotebook": false
  }
 },
 "nbformat": 4,
 "nbformat_minor": 2
}
