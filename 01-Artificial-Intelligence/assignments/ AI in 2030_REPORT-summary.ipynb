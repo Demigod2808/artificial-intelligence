{
 "cells": [
  {
   "cell_type": "markdown",
   "metadata": {
    "toc": "true"
   },
   "source": [
    "# Table of Contents\n",
    " <p><div class=\"lev1 toc-item\"><a href=\"#ARTIFICIAL-INTELLIGENCE-AND-LIFE-IN-2030\" data-toc-modified-id=\"ARTIFICIAL-INTELLIGENCE-AND-LIFE-IN-2030-1\"><span class=\"toc-item-num\">1&nbsp;&nbsp;</span>ARTIFICIAL INTELLIGENCE AND LIFE IN 2030</a></div><div class=\"lev2 toc-item\"><a href=\"#Preface\" data-toc-modified-id=\"Preface-11\"><span class=\"toc-item-num\">1.1&nbsp;&nbsp;</span>Preface</a></div><div class=\"lev2 toc-item\"><a href=\"#Executive-Summary\" data-toc-modified-id=\"Executive-Summary-12\"><span class=\"toc-item-num\">1.2&nbsp;&nbsp;</span>Executive Summary</a></div><div class=\"lev2 toc-item\"><a href=\"#Overview\" data-toc-modified-id=\"Overview-13\"><span class=\"toc-item-num\">1.3&nbsp;&nbsp;</span>Overview</a></div><div class=\"lev3 toc-item\"><a href=\"#What-is-next-for-AI-research?\" data-toc-modified-id=\"What-is-next-for-AI-research?-131\"><span class=\"toc-item-num\">1.3.1&nbsp;&nbsp;</span>What is next for AI research?</a></div><div class=\"lev2 toc-item\"><a href=\"#What-is-Artificial-Intelligence?\" data-toc-modified-id=\"What-is-Artificial-Intelligence?-14\"><span class=\"toc-item-num\">1.4&nbsp;&nbsp;</span>What is Artificial Intelligence?</a></div><div class=\"lev2 toc-item\"><a href=\"#Section-II:-AI-by-Domain\" data-toc-modified-id=\"Section-II:-AI-by-Domain-15\"><span class=\"toc-item-num\">1.5&nbsp;&nbsp;</span>Section II: AI by Domain</a></div><div class=\"lev3 toc-item\"><a href=\"#Education\" data-toc-modified-id=\"Education-151\"><span class=\"toc-item-num\">1.5.1&nbsp;&nbsp;</span>Education</a></div>"
   ]
  },
  {
   "cell_type": "markdown",
   "metadata": {},
   "source": [
    "# ARTIFICIAL INTELLIGENCE AND LIFE IN 2030\n"
   ]
  },
  {
   "cell_type": "markdown",
   "metadata": {},
   "source": [
    "## Preface\n",
    "\n",
    "- The overarching purpose of the One Hundred year study's periodic expert review is to provide a collected and connected set of reflections about AI and its influences as the field advances."
   ]
  },
  {
   "cell_type": "markdown",
   "metadata": {},
   "source": [
    "## Executive Summary"
   ]
  },
  {
   "cell_type": "markdown",
   "metadata": {},
   "source": [
    "- AI is a science and a set of computational technologies that are inspired by --but typically operate quite differently from -- the ways people use their nervous systems and bodies to sense, learn, reason and take action.\n",
    "\n",
    "- While drawing on common research and technologies, AI systems are specialized to accomplish particular tasks. Each application requires years of focused research and a careful, unique construction.\n",
    "\n",
    "- While the rate of progress in AI has been patchy and unpredictable, there have been significant advances since the field's inception 60 years ago.\n",
    "\n",
    "- Substantial increases in the future uses of AI applications, including more self-driving cars, healthcare diagnostics and targeted treatment, and physical assistance for elder care can be expected.\n",
    "\n",
    "- Contrary to the more fantastic predictions for AI in the popular press, the Study Panel found no cause for concern that AI is an imminent threat to humankind. No machines with self-sustaining long-term goals and intent have been developed, nor are they likely to be developed in the near future. Instead, increasingly useful applications of AI, with potentially profound positive impacts on our society and economy are likely to emerge between now and 2030."
   ]
  },
  {
   "cell_type": "markdown",
   "metadata": {},
   "source": [
    "## Overview"
   ]
  },
  {
   "cell_type": "markdown",
   "metadata": {},
   "source": [
    "Many have already grown\n",
    "accustomed to touching\n",
    "and talking to their\n",
    "smart phones. People’s\n",
    "future relationships with\n",
    "machines will become ever\n",
    "more nuanced, fluid, and\n",
    "personalized."
   ]
  },
  {
   "cell_type": "markdown",
   "metadata": {},
   "source": [
    "Society is now at a crucial\n",
    "juncture in determining\n",
    "how to deploy AI-based\n",
    "technologies in ways that\n",
    "promote rather than hinder\n",
    "democratic values such\n",
    "as freedom, equality, and\n",
    "transparency.\n"
   ]
  },
  {
   "cell_type": "markdown",
   "metadata": {},
   "source": [
    "Longer term, AI may be\n",
    "thought of as a radically\n",
    "different mechanism\n",
    "for wealth creation in\n",
    "which everyone should\n",
    "be entitled to a portion of\n",
    "the world’s AI-produced\n",
    "treasures.\n"
   ]
  },
  {
   "cell_type": "markdown",
   "metadata": {},
   "source": [
    "### What is next for AI research?"
   ]
  },
  {
   "cell_type": "markdown",
   "metadata": {},
   "source": [
    "The field of AI is shifting\n",
    "toward building intelligent\n",
    "systems that can\n",
    "collaborate effectively with\n",
    "people, including creative\n",
    "ways to develop interactive\n",
    "and scalable ways for\n",
    "people to teach robots.\n"
   ]
  },
  {
   "cell_type": "markdown",
   "metadata": {},
   "source": [
    "These trends drive the currently “hot” areas of AI research into both fundamental methods and application areas:\n",
    "Large-scale machine learning \n",
    "\n",
    "- **Large-scale machine learning** concerns the design of learning algorithms, as well as scaling existing algorithms, to work with extremely large data sets. Deep learning, a class of learning procedures, has facilitated object recognition.\n",
    "\n",
    "Large-scale machine learning\n",
    "Many of the basic problems in machine learning (such as supervised and\n",
    "unsupervised learning) are well-understood. A major focus of current efforts is to\n",
    "scale existing algorithms to work with extremely large data sets. For example, whereas\n",
    "traditional methods could afford to make several passes over the data set, modern\n",
    "ones are designed to make only a single pass; in some cases, only sublinear methods\n",
    "(those that only look at a fraction of the data) can be admitted.\n",
    "\n",
    "\n",
    "- **Deep learning**, a class of learning procedures, has facilitated object recognition in images, video labeling, and activity recognition, and is making significant inroads into other areas of perception, such as audio, speech, and natural language processing.\n",
    "\n",
    "- **Reinforcement learning** is a framework that shifts the focus of machine learning from pattern recognition to experience-driven sequential decision-making. It promises to carry AI applications forward toward taking actions in the real world. While largely confined to academia over the past several decades, it is now seeing some practical, real-world successes.\n",
    "\n",
    "Whereas traditional machine learning has mostly focused on pattern mining,\n",
    "reinforcement learning shifts the focus to decision making, and is a technology that\n",
    "will help AI to advance more deeply into the realm of learning about and executing\n",
    "actions in the real world. It has existed for several decades as a framework for\n",
    "experience-driven sequential decision-making, but the methods have not found great\n",
    "success in practice, mainly owing to issues of representation and scaling. However,\n",
    "the advent of deep learning has provided reinforcement learning with a “shot in the\n",
    "arm.” The recent success of AlphaGo, a computer program developed by Google\n",
    "Deepmind that beat the human Go champion in a five-game match, was due in large\n",
    "part to reinforcement learning. AlphaGo was trained by initializing an automated\n",
    "agent with a human expert database, but was subsequently refined by playing a large\n",
    "number of games against itself and applying reinforcement learning.\n",
    "\n",
    "- **Robotics** is currently concerned with how to train a robot to interact with the world around it in generalizable and predictable ways, how to facilitate manipulation of objects in interactive environments, and how to interact with people. Advances in robotics will rely on commensurate advances to improve the reliability and generality of computer vision and other forms of machine perception.\n",
    "\n",
    "- **Computer vision** is currently the most prominent form of machine perception. It has been the sub-area of AI most transformed by the rise of deep learning. For the first time, computers are able to perform some vision tasks better than people. Muchcurrent research is focused on automatic image and video captioning.\n"
   ]
  },
  {
   "cell_type": "markdown",
   "metadata": {},
   "source": [
    "## What is Artificial Intelligence?"
   ]
  },
  {
   "cell_type": "markdown",
   "metadata": {},
   "source": [
    "Intelligence lies on a\n",
    "multi-dimensional\n",
    "spectrum. According to\n",
    "this view, the difference\n",
    "between an arithmetic\n",
    "calculator and a human\n",
    "brain is not one of kind,\n",
    "but of scale, speed,\n",
    "degree of autonomy, and\n",
    "generality.\n"
   ]
  },
  {
   "cell_type": "markdown",
   "metadata": {},
   "source": [
    "## Section II: AI by Domain"
   ]
  },
  {
   "cell_type": "markdown",
   "metadata": {},
   "source": [
    "### Education"
   ]
  },
  {
   "cell_type": "markdown",
   "metadata": {},
   "source": [
    "Though quality education\n",
    "will always require active\n",
    "engagement by human\n",
    "teachers, AI promises to\n",
    "enhance education at\n",
    "all levels, especially by\n",
    "providing personalization\n",
    "at scale.\n"
   ]
  },
  {
   "cell_type": "markdown",
   "metadata": {},
   "source": [
    "The current absence of\n",
    "sophisticated use of AI\n",
    "technologies in schools,\n",
    "colleges, and universities\n",
    "may be explained by\n",
    "the lack of financial\n",
    "resources as well as the\n",
    "lack of data establishing\n",
    "the technologies’\n",
    "effectiveness.\n"
   ]
  }
 ],
 "metadata": {
  "kernelspec": {
   "display_name": "Python 3",
   "language": "python",
   "name": "python3"
  },
  "language_info": {
   "codemirror_mode": {
    "name": "ipython",
    "version": 3
   },
   "file_extension": ".py",
   "mimetype": "text/x-python",
   "name": "python",
   "nbconvert_exporter": "python",
   "pygments_lexer": "ipython3",
   "version": "3.6.2"
  },
  "toc": {
   "colors": {
    "hover_highlight": "#DAA520",
    "navigate_num": "#000000",
    "navigate_text": "#333333",
    "running_highlight": "#FF0000",
    "selected_highlight": "#FFD700",
    "sidebar_border": "#EEEEEE",
    "wrapper_background": "#FFFFFF"
   },
   "moveMenuLeft": true,
   "nav_menu": {
    "height": "171px",
    "width": "252px"
   },
   "navigate_menu": true,
   "number_sections": false,
   "sideBar": true,
   "threshold": 4,
   "toc_cell": true,
   "toc_section_display": "block",
   "toc_window_display": false,
   "widenNotebook": false
  }
 },
 "nbformat": 4,
 "nbformat_minor": 2
}
